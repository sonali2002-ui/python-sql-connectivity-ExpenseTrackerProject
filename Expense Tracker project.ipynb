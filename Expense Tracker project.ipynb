{
 "cells": [
  {
   "cell_type": "code",
   "execution_count": null,
   "id": "21e01359-6dc1-455a-b254-07cf5931be59",
   "metadata": {},
   "outputs": [],
   "source": [
    "Expense Tracker\n",
    "1.using SQL create a table-date,amount,category(food/travel/fess etc.),description\n",
    "2.using  python-connect to database,add new record,fetch the \n",
    "records,delete record,summary of entire month\n"
   ]
  },
  {
   "cell_type": "code",
   "execution_count": 2,
   "id": "4d4b633b-684e-4e42-a2df-eabf13154b05",
   "metadata": {},
   "outputs": [
    {
     "name": "stdout",
     "output_type": "stream",
     "text": [
      "-------Personal Expense Tracker-------\n",
      "1. Add Expense\n",
      "2. View Expenses\n",
      "3. Delete Expense\n",
      "4. Monthly Summary\n",
      "5. Exit \n"
     ]
    },
    {
     "name": "stdin",
     "output_type": "stream",
     "text": [
      "Enter your choice 1\n",
      "Enter amount spent 2500\n",
      "Enter category like travel, food etc... medicines\n",
      "Enter description monthly medicines\n",
      "Enter date in yyy-mm-dd format or leave blank if today's date \n"
     ]
    },
    {
     "name": "stdout",
     "output_type": "stream",
     "text": [
      "Expense added successfully\n",
      "-------Personal Expense Tracker-------\n",
      "1. Add Expense\n",
      "2. View Expenses\n",
      "3. Delete Expense\n",
      "4. Monthly Summary\n",
      "5. Exit \n"
     ]
    },
    {
     "name": "stdin",
     "output_type": "stream",
     "text": [
      "Enter your choice 2\n"
     ]
    },
    {
     "name": "stdout",
     "output_type": "stream",
     "text": [
      "-------All Expenses till now-------\n",
      "1 | 2025-06-03 | 345.00 | medicenes | \n",
      "2 | 2025-06-03 | 2000.00 | shopping | shopping for new academic year\n",
      "3 | 2025-06-04 | 2500.00 | medicines | monthly medicines\n",
      "-------Personal Expense Tracker-------\n",
      "1. Add Expense\n",
      "2. View Expenses\n",
      "3. Delete Expense\n",
      "4. Monthly Summary\n",
      "5. Exit \n"
     ]
    },
    {
     "name": "stdin",
     "output_type": "stream",
     "text": [
      "Enter your choice 4\n",
      "Enter month - mm 06\n",
      "Enter year - yyyy 2025\n"
     ]
    },
    {
     "name": "stdout",
     "output_type": "stream",
     "text": [
      "----Expenses for month of 06----\n",
      "medicenes | $345.00\n",
      "shopping | $2000.00\n",
      "medicines | $2500.00\n",
      "-------Personal Expense Tracker-------\n",
      "1. Add Expense\n",
      "2. View Expenses\n",
      "3. Delete Expense\n",
      "4. Monthly Summary\n",
      "5. Exit \n"
     ]
    },
    {
     "name": "stdin",
     "output_type": "stream",
     "text": [
      "Enter your choice 3\n",
      "Enter the id to delete the record 1\n"
     ]
    },
    {
     "name": "stdout",
     "output_type": "stream",
     "text": [
      "Deleted successfully!!\n",
      "-------Personal Expense Tracker-------\n",
      "1. Add Expense\n",
      "2. View Expenses\n",
      "3. Delete Expense\n",
      "4. Monthly Summary\n",
      "5. Exit \n"
     ]
    },
    {
     "name": "stdin",
     "output_type": "stream",
     "text": [
      "Enter your choice 2\n"
     ]
    },
    {
     "name": "stdout",
     "output_type": "stream",
     "text": [
      "-------All Expenses till now-------\n",
      "2 | 2025-06-03 | 2000.00 | shopping | shopping for new academic year\n",
      "3 | 2025-06-04 | 2500.00 | medicines | monthly medicines\n",
      "-------Personal Expense Tracker-------\n",
      "1. Add Expense\n",
      "2. View Expenses\n",
      "3. Delete Expense\n",
      "4. Monthly Summary\n",
      "5. Exit \n"
     ]
    },
    {
     "name": "stdin",
     "output_type": "stream",
     "text": [
      "Enter your choice 5\n"
     ]
    },
    {
     "name": "stdout",
     "output_type": "stream",
     "text": [
      "Thank you for using!!!\n"
     ]
    }
   ],
   "source": [
    "import mysql.connector\n",
    "from datetime import datetime\n",
    "\n",
    "def db_con():\n",
    "    return mysql.connector.connect(\n",
    "        host = \"localhost\",\n",
    "        user = \"root\",\n",
    "        password = \"Sonali@2002\",\n",
    "        database = \"expense_tracker\")\n",
    "    \n",
    "def add_expense():\n",
    "    #accept values from user\n",
    "    amount = float(input(\"Enter amount spent\"))\n",
    "    category = input(\"Enter category like travel, food etc...\")\n",
    "    description = input(\"Enter description\")\n",
    "    date_str = input(\"Enter date in yyy-mm-dd format or leave blank if today's date\")\n",
    "    #getting date string\n",
    "    #using short hand if else -date_str if left blank will return false\n",
    "    date = date_str if date_str else datetime.today().strftime(\"%Y-%m-%d\")\n",
    "    #open connection\n",
    "    con = db_con()\n",
    "    #create a cursor/pointer whixch can access database\n",
    "    cursor = con.cursor()\n",
    "    #add records to table\n",
    "    cursor.execute(\n",
    "        \"insert into expense(date,amount,category,description)values(%s,%s,%s,%s)\",\n",
    "        (date,amount,category,description)\n",
    "    )\n",
    "    #save to database\n",
    "    con.commit()\n",
    "    print(\"Expense added successfully\")\n",
    "    #close the cursor and connection\n",
    "    cursor.close()\n",
    "    con.close()\n",
    "\n",
    "def view_expense():\n",
    "    #open the connection\n",
    "    con = db_con()\n",
    "    cursor = con.cursor()\n",
    "    cursor.execute(\"select * from expense\") #select all records\n",
    "    rows = cursor.fetchall() #get all the records in the variable rows\n",
    "    print(\"-------All Expenses till now-------\")\n",
    "    for row in rows:\n",
    "        print(f\"{row[0]} | {row[1]} | {row[2]} | {row[3]} | {row[4]}\")\n",
    "    cursor.close()\n",
    "    con.close()\n",
    "\n",
    "def del_expense():\n",
    "    expenseId = int(input(\"Enter the id to delete the record\"))\n",
    "    con = db_con()\n",
    "    cursor = con.cursor()\n",
    "    cursor.execute(\"delete from expense where id = %s\",(expenseId,))\n",
    "    con.commit() # save the changes to database\n",
    "    if cursor.rowcount >0:  #row count is the property which returns on how many rows the cursor is affecting\n",
    "        print(\"Deleted successfully!!\")\n",
    "    else:\n",
    "        print(\"Id not found\")\n",
    "    cursor.close()\n",
    "    con.close()\n",
    "\n",
    "def summary():\n",
    "    month = input(\"Enter month - mm\")\n",
    "    year = input(\"Enter year - yyyy\")\n",
    "    con = db_con()\n",
    "    cursor = con.cursor()\n",
    "    cursor.execute('''\n",
    "    select category , sum(amount) from expense \n",
    "    where month(date) = %s and year(date) = %s\n",
    "    group by category\n",
    "    ''',(month,year))\n",
    "    rows = cursor.fetchall()\n",
    "    print(f\"----Expenses for month of {month}----\")\n",
    "    for row in rows:\n",
    "        print(f\"{row[0]} | ${row[1]}\")\n",
    "    cursor.close()\n",
    "    con.close()\n",
    "        \n",
    "        \n",
    "def main():\n",
    "    #create a menu for user\n",
    "    while True:\n",
    "        print(\"-------Personal Expense Tracker-------\")\n",
    "        print(\"1. Add Expense\")\n",
    "        print(\"2. View Expenses\")\n",
    "        print(\"3. Delete Expense\")\n",
    "        print(\"4. Monthly Summary\")\n",
    "        print(\"5. Exit \")\n",
    "\n",
    "        #accepting choice from user\n",
    "        choice = int(input(\"Enter your choice\"))\n",
    "        #check and call the function accordingly\n",
    "        if choice == 1:\n",
    "            add_expense()\n",
    "        elif choice == 2:\n",
    "            view_expense()\n",
    "        elif choice == 3:\n",
    "            del_expense()\n",
    "        elif choice == 4:\n",
    "            summary()\n",
    "        elif choice == 5:\n",
    "            print(\"Thank you for using!!!\")\n",
    "            break\n",
    "        else:\n",
    "            print(\"Invalid entry!! please select correct option. Try Again!!\")\n",
    "\n",
    "if __name__ == \"__main__\":\n",
    "    main()\n",
    "        \n",
    "\n",
    "            \n",
    "        "
   ]
  },
  {
   "cell_type": "code",
   "execution_count": null,
   "id": "720c1bd4-3005-4d03-bce6-b230415f3640",
   "metadata": {},
   "outputs": [],
   "source": []
  }
 ],
 "metadata": {
  "kernelspec": {
   "display_name": "Python [conda env:base] *",
   "language": "python",
   "name": "conda-base-py"
  },
  "language_info": {
   "codemirror_mode": {
    "name": "ipython",
    "version": 3
   },
   "file_extension": ".py",
   "mimetype": "text/x-python",
   "name": "python",
   "nbconvert_exporter": "python",
   "pygments_lexer": "ipython3",
   "version": "3.12.7"
  }
 },
 "nbformat": 4,
 "nbformat_minor": 5
}
